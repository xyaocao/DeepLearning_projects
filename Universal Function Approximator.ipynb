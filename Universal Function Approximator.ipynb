{
 "cells": [
  {
   "attachments": {},
   "cell_type": "markdown",
   "metadata": {},
   "source": [
    "# Universal Function Approximator\n",
    "\n",
    "\n",
    "The goal of this exercise is to train a two-layer fully-connected network to perform one-dimensional non-linear regression via gradient descent. To show the flexibility of the approach, three different functions will be approximated. First, the network and its gradient need to be implemented. Second, target data for three different functions will be generated. Finally, the training procedure will be applied to the data, and the resulting approximated function will be plotted together with the data samples.\n",
    "\n",
    "## Network Implementation\n",
    "\n",
    "A two-layer network is defined by parameters $\\Theta=(\\mathbf W^{(1)},\\vec w^{(2)})$ that are split into $\\mathbf W^{(1)}\\in\\mathbb R^{K\\times {(D+1)}}$ for the first layer and $\\vec w^{(2)}\\in\\mathbb R^{K+1}$ for the second layer. In our case, since we have only a single input, we have $D=1$.\n",
    "For a given input $\\vec x = (1, x)^T$, the network is implemented in three steps:\n",
    "\n",
    "1. Compute the first layer output, aka, the activation: $\\vec a_- = \\mathbf W^{(1)} \\vec x$\n",
    "2. Apply the activation function for each element of $\\vec a_- : \\vec h_- = g(\\vec a_-)$ and prepend the bias neuron $h_0=1$ to arrive at $\\vec h$.\n",
    "3. Compute the output of the network: $y = \\vec w^{(2)}\\ ^T\\vec h$.\n",
    "\n",
    "### Task 1  \n",
    "Implement a function that returns the network output for a given input $\\vec x$ and parameters $\\Theta=(\\mathbf W^{(1)}, \\vec w^{(2)})$. Remember that the input of the function $\\vec x = (1, x)^T$. Also remember to prepend $h_0=1$ in your implementation.\n",
    "\n",
    "We use sigmoid $(\\sigma)$ as the activation function:\n",
    "\n",
    "\\begin{equation*}\n",
    "    \\sigma(a) =  \\frac{\\mathrm{1} }{\\mathrm{1} + e^{-a} }\n",
    "\\end{equation*}\n",
    "\n",
    "Note:\n",
    "\n",
    "1. Use the `numpy` to implement the sigmoid function.\n",
    "2. Use `numpy.concatenate` or `numpy.insert` to prepend $h_0$.\n",
    "3. Make use of `numpy.dot` to compute matrix-vector and vector-vector products."
   ]
  },
  {
   "cell_type": "code",
   "execution_count": 32,
   "metadata": {},
   "outputs": [],
   "source": [
    "import numpy as np\n",
    "import math\n",
    "\n",
    "def logistic(x):\n",
    "  return 1 / (1 + np.exp(-x))\n",
    "\n",
    "def network(x, Theta):\n",
    "  W1, w2 = Theta\n",
    "  a_ = np.dot(W1, np.array(x))\n",
    "  h_ = logistic(a_)\n",
    "  h = np.concatenate((np.array([1]), np.array(h_)))\n",
    "  y = np.dot(w2, h)\n",
    "  return y, h"
   ]
  },
  {
   "attachments": {},
   "cell_type": "markdown",
   "metadata": {},
   "source": [
    "Test 1: Sanity Check\n",
    "----------------------------\n",
    "\n",
    "We select a specific number of hidden neurons and create the weights accordingly, using all zeros in the first layer and all ones in the second. The test case below assures that the function from Task 1 actually returns $11$ for those weights.\n",
    "\n",
    "Note: your function should pass the test below."
   ]
  },
  {
   "cell_type": "code",
   "execution_count": 33,
   "metadata": {},
   "outputs": [
    {
     "name": "stdout",
     "output_type": "stream",
     "text": [
      "Test passed\n"
     ]
    }
   ],
   "source": [
    "K = 20\n",
    "D = 1\n",
    "W1 = np.zeros((K, D+1))\n",
    "w2 = np.ones(K+1)\n",
    "x = np.random.rand(D+1)\n",
    "\n",
    "y, _ = network(x, (W1, w2))\n",
    "assert abs(11 - y) < 1e-6\n",
    "print(\"Test passed\")"
   ]
  },
  {
   "attachments": {},
   "cell_type": "markdown",
   "metadata": {},
   "source": [
    "## Gradient Implementation\n",
    "\n",
    "In order to perform gradient descent, we need to define a loss function. As provided in the lecture, the $\\mathcal J^{L_2}$ loss function is defined over a dataset $X=\\{(\\vec x^{[n]}, t^{[n]})\\}$, that is defined as a list of tuples, as follows:\n",
    "\n",
    "$$\n",
    "   \\mathcal J^{L_2} = \\frac{1}{N}\\sum_{i=1}^N (y^{[n]}-t^{[n]})^2\n",
    "$$\n",
    "\n",
    "where $y^{[n]}$ is the output of the network from Task 1 when inputting $\\vec x^{[n]}$. Interestingly, however, we never explicitly need to compute the output of the loss function. It is only used to analytically compute the gradient as shown in the lecture.\n",
    "\n",
    "The gradient is composed of two items, one for each layer. Particularly, for a given dataset $X$, the gradient of loss $J^{L_2}$ is defined as:\n",
    "\n",
    "\\begin{align}\n",
    "  \\frac{\\partial \\mathcal J}{\\partial w_{kd}^{(1)}} &= \\frac{2}{N} \\sum\\limits_{n=1}^N (y^{[n]}-t^{[n]}) w_{k}^{(2)} (1-h_{k}^{[n]}) h_{k}^{[n]} x_{d}^{[n]}\\\\\n",
    "  \\frac{\\partial \\mathcal J}{\\partial w_{k}^{(2)}} &= \\frac{2}{N} \\sum\\limits_{n=1}^N (y^{[n]}-t^{[n]}) h_{k}^{[n]}\n",
    "\\end{align}\n",
    "\n",
    "### Task 2\n",
    "Implement a function that returns the gradient as defined in $(1)$ and $(2)$ for a given dataset $X$, and given weights $\\Theta=(\\mathbf W^{(1)},\\vec w^{(2)})$. Make sure that both parts of the gradient are computed. \n",
    "\n",
    "Hint:\n",
    "\n",
    "1. Make use of the the function implemented in Task 1 where appropriate\n",
    "\n",
    "Note:\n",
    "\n",
    "  1. This is a slow implementation. We will see how to speed this up in the next lecture.\n",
    "  2. You can make use of `numpy.zeros` to initialize the gradient.\n",
    "  3. The outer product can be computed via `numpy.outer`.\n",
    "  4. Remember that we used the $logistic$ activation function in our network."
   ]
  },
  {
   "cell_type": "code",
   "execution_count": 34,
   "metadata": {},
   "outputs": [],
   "source": [
    "def gradient(X, Theta):\n",
    "  # split parameters for easier handling\n",
    "  W1, w2 = Theta\n",
    "\n",
    "  # define gradient with respect to both parameters\n",
    "  dW1 = np.zeros(W1.shape)\n",
    "  dw2 = np.zeros(w2.shape)\n",
    "\n",
    "  # iterate over dataset\n",
    "  for x, t in X:\n",
    "    # compute the gradient\n",
    "    y, h =network(x, Theta)\n",
    "    dW1 += np.outer((y - t) * w2[1:] * (1 - h[1:]**2), x)\n",
    "    dw2 += (y - t) * h\n",
    "  # anything else?\n",
    "  dW1 *= 2 / len(X)\n",
    "  dw2 *= 2 / len(X)\n",
    "\n",
    "  return dW1, dw2"
   ]
  },
  {
   "attachments": {},
   "cell_type": "markdown",
   "metadata": {},
   "source": [
    "## Gradient Descent\n",
    "\n",
    "The procedure of gradient descent is the repeated application of two steps.\n",
    " \n",
    "1. The gradient of loss $\\nabla_{\\Theta}\\mathcal J^{L_2}$ is computed based on the current value of the parameters $\\Theta=(\\mathbf W^{(1)},\\vec w^{(2)})$.\n",
    "2. The weights are updated by moving a small step $\\eta$ into the direction of the negative gradient:\n",
    "\n",
    "$$\n",
    "    \\Theta = \\Theta - \\eta \\nabla_{\\Theta}\\mathcal J\n",
    "$$\n",
    "\n",
    "As stopping criterion, we select the number of training epochs to be 10000.\n",
    "\n",
    "### Task 3\n",
    "Implement a function that performs gradient descent for a given dataset $X$, given initial parameters $\\Theta$ and a given learning rate $\\eta$ and returns the optimized parameters $\\Theta^*$."
   ]
  },
  {
   "cell_type": "code",
   "execution_count": 35,
   "metadata": {},
   "outputs": [],
   "source": [
    "def gradient_descent(X, Theta, eta):\n",
    "  epochs = 10000\n",
    "  # perform iterative gradient descent\n",
    "  for epoch in range(epochs):\n",
    "    # compute the gradient\n",
    "    dW1, dw2 = gradient(X, Theta)\n",
    "    # update the parameters\n",
    "    W1, w2 = Theta\n",
    "    W1 -= eta * dW1\n",
    "    w2 -= eta * dw2\n",
    "  \n",
    "  # return optimized parameters\n",
    "  return W1, w2"
   ]
  },
  {
   "attachments": {},
   "cell_type": "markdown",
   "metadata": {},
   "source": [
    "## Generate Datasets\n",
    "\n",
    "In total, we will test our gradient descent function with three different datasets. Particularly, we approximate:\n",
    "\n",
    "1. $X_1: t = \\sin(3x)$ for $x\\in[-1,1]$\n",
    "2. $X_2: t = e^{-4x^2}$ for $x\\in[-1,1]$\n",
    "3. $X_3: t = x^5 + 3x^4 - 6x^3 -12x^2 + 5x + 129$ for $x\\in[-4,2.5]$\n",
    "\n",
    "### Task 4\n",
    "\n",
    "Generate dataset $X_1$, for $N=60$ samples randomly drawn from range $x\\in[-1,1]$. \n",
    "Generate data $X_2$ for $N=50$ samples randomly drawn from range $x\\in[-1,1]$. \n",
    "Generate dataset $X_3$ for $N=200$ samples randomly drawn from range $x\\in[-4,2.5]$. \n",
    "Implement all three datasets as lists of tuples: $\\{(\\vec x^{[n]}, t^{[n]})\\mid 1\\leq n\\leq N\\}$.\n",
    "\n",
    "Note:\n",
    "\n",
    "  1. You can use `numpy.random.uniform` to create uniformly distributed samples for $x$.\n",
    "  2. Make sure that $\\vec x = (1, x)^T$ for each sample.\n",
    "  3. You can make use of `numpy.sin`, `numpy.exp` and `numpy.pow` to compute target values."
   ]
  },
  {
   "cell_type": "code",
   "execution_count": 36,
   "metadata": {},
   "outputs": [],
   "source": [
    "N1 = 60\n",
    "X1 = []\n",
    "for _ in range(N1):\n",
    "    x = np.random.uniform(-1, 1)\n",
    "    t = np.sin(3 * x)\n",
    "    X1.append(((1, x), t))\n",
    "N2 = 50\n",
    "X2 = []\n",
    "for _ in range(N2):\n",
    "    x = np.random.uniform(-1, 1)\n",
    "    t = np.exp(-4 * x**2)\n",
    "    X2.append(((1, x), t))\n",
    "N3 = 200\n",
    "X3 = []\n",
    "for _ in range(N3):\n",
    "    x = np.random.uniform(-4, 2.5)\n",
    "    t = x**5 + 3*x**4 - 6*x**3 - 12*x**2 + 5*x +129\n",
    "    X3.append(((1, x), t))"
   ]
  },
  {
   "attachments": {},
   "cell_type": "markdown",
   "metadata": {},
   "source": [
    "### Test 2: Sanity Check\n",
    "\n",
    "The test case below assures that the elements of each generated dataset are tuples with two elements, that the first element ($\\vec x$) is a vector with two numbers, and that the second element ($t$) is a float."
   ]
  },
  {
   "cell_type": "code",
   "execution_count": 37,
   "metadata": {},
   "outputs": [
    {
     "name": "stdout",
     "output_type": "stream",
     "text": [
      "Test passed!\n"
     ]
    }
   ],
   "source": [
    "assert all(\n",
    "    isinstance(x, (tuple,list)) and\n",
    "    len(x) == 2 and\n",
    "    isinstance(x[0], (tuple,list,np.ndarray)) and\n",
    "    len(x[0]) == 2 and\n",
    "    isinstance(x[1], float)\n",
    "    for X in (X1, X2, X3)\n",
    "    for x in X\n",
    ")\n",
    "\n",
    "print('Test passed!')"
   ]
  },
  {
   "attachments": {},
   "cell_type": "markdown",
   "metadata": {},
   "source": [
    "## Function Approximation\n",
    "\n",
    "Finally, we want to make use of our gradient descent implementation to approximate our functions. In order to see our success, we want to plot the functions together with the data.\n",
    "\n",
    "### Task 5 (theoretical question)\n",
    "\n",
    "When looking at the example plots in the exercise slides (exemplary solutions for the plotting Task 8), how many hidden neurons $K$ do we need in order to approximate the functions? Is there any difference between the three target functions? **Please discuss it in the markdown cell below:**"
   ]
  },
  {
   "cell_type": "markdown",
   "metadata": {},
   "source": [
    "..."
   ]
  },
  {
   "cell_type": "code",
   "execution_count": 38,
   "metadata": {},
   "outputs": [],
   "source": [
    "# Define the number of neurons for each target function based on your discussion\n",
    "K1 = 3\n",
    "K2 = 3\n",
    "K3 = 60"
   ]
  },
  {
   "attachments": {},
   "cell_type": "markdown",
   "metadata": {},
   "source": [
    "### Task 6\n",
    "\n",
    "For each of the datasets, randomly initialize the parameters $\\Theta_1,\\Theta_2,\\Theta_3\\in[-1,1]$ according to the number of hidden neurons estimated in Task 5.\n",
    "\n",
    "Note:\n",
    "\n",
    "  1. You can use `numpy.random.uniform` to initialize the weights.\n",
    "  2. Make sure that the weight matrices are instantiated in the correct dimensions."
   ]
  },
  {
   "cell_type": "code",
   "execution_count": 39,
   "metadata": {},
   "outputs": [],
   "source": [
    "D = 1\n",
    "Theta1 = (np.random.uniform(-1, 1, (K1, D+1)), np.random.uniform(-1, 1, K1+1))\n",
    "Theta2 = (np.random.uniform(-1, 1, (K2, D+1)), np.random.uniform(-1, 1, K2+1))\n",
    "Theta3 = (np.random.uniform(-1, 1, (K3, D+1)), np.random.uniform(-1, 1, K3+1))"
   ]
  },
  {
   "attachments": {},
   "cell_type": "markdown",
   "metadata": {},
   "source": [
    "### Task 7\n",
    "\n",
    "Call gradient descent function from Task 3 using the datasets $X_1, X_2, X_3$, the according created parameters $\\Theta_1,\\Theta_2,\\Theta_3$. Store the resulting optimized weights $\\Theta_1^*, \\Theta_2^*, \\Theta_3^*$ and the loss values.\n",
    "\n",
    "**Please discuss first the appropriate learning rate $\\eta$  for each of the three functions in the markdown cell below.** Based on your learning rates, you may neeed to optimize the learning rate $\\eta$ for these functions. Do you see any differences? What are the best learning rates that you can find?\n",
    "\n",
    "WARNING: Depending on the implementation, this might run for several minutes!"
   ]
  },
  {
   "cell_type": "markdown",
   "metadata": {},
   "source": [
    "..."
   ]
  },
  {
   "cell_type": "code",
   "execution_count": 40,
   "metadata": {},
   "outputs": [
    {
     "name": "stdout",
     "output_type": "stream",
     "text": [
      "Theta1_star:  (array([[-1.75227726, -1.23316622],\n",
      "       [ 0.12654928,  7.79398366],\n",
      "       [-0.51342807, -1.30561767]]), array([-1.94059594,  4.21159433,  2.55062032, -0.08844099]))\n",
      "Theta2_star:  (array([[ -2.14574857,   1.34365213],\n",
      "       [  4.81519857,  17.18802207],\n",
      "       [  5.58252024, -20.50726993]]), array([-0.18206616, -2.28189784,  0.90661562,  0.52464991]))\n"
     ]
    },
    {
     "name": "stderr",
     "output_type": "stream",
     "text": [
      "C:\\Users\\Yao C\\AppData\\Local\\Temp\\ipykernel_16000\\2973792175.py:5: RuntimeWarning: overflow encountered in exp\n",
      "  return 1 / (1 + np.exp(-x))\n"
     ]
    },
    {
     "name": "stdout",
     "output_type": "stream",
     "text": [
      "Theta3_star:  (array([[ 4.83217557e+01,  1.28663617e+01],\n",
      "       [ 4.01878175e+01,  1.39897998e+01],\n",
      "       [ 4.88065700e+01,  1.92475837e+01],\n",
      "       [ 3.83645320e+00,  1.98350062e-01],\n",
      "       [ 4.94902817e+01,  1.88908707e+01],\n",
      "       [ 3.34546158e+01,  6.74444765e+00],\n",
      "       [ 2.82542700e+01,  7.69659788e+00],\n",
      "       [ 1.46509764e+01,  4.55406522e+00],\n",
      "       [ 2.88421720e+01,  5.57785229e+00],\n",
      "       [-5.22873632e+02,  2.32029953e+02],\n",
      "       [ 4.94783481e+01,  1.79579782e+01],\n",
      "       [ 2.91275103e+01,  7.86693645e+00],\n",
      "       [ 4.88402283e+01,  1.68766337e+01],\n",
      "       [ 1.91477587e+01,  9.54222142e+00],\n",
      "       [ 4.12620654e+01,  8.90869149e+00],\n",
      "       [ 2.83142353e+01,  7.70968355e+00],\n",
      "       [ 1.22873119e+00,  2.11150169e+01],\n",
      "       [ 4.85690188e+01,  1.82994305e+01],\n",
      "       [ 2.72364774e+01,  5.27216094e+00],\n",
      "       [ 2.92296510e+01,  1.26289841e+01],\n",
      "       [ 2.99290729e+01,  6.38352053e+00],\n",
      "       [ 4.44983991e+01,  1.75669566e+01],\n",
      "       [ 3.57865340e+01,  1.51821331e+01],\n",
      "       [ 2.59698036e+01,  7.98218756e+00],\n",
      "       [ 2.96602770e+00,  4.16553483e+01],\n",
      "       [ 6.36473823e+01,  1.69735329e+01],\n",
      "       [ 6.85392778e+01,  1.82930233e+01],\n",
      "       [ 2.66486865e+00,  3.46355502e+01],\n",
      "       [ 2.57160956e+01,  7.98815850e+00],\n",
      "       [ 4.37879284e+01,  1.49179162e+01],\n",
      "       [ 2.57486410e+01,  7.99547486e+00],\n",
      "       [ 3.23725303e+01,  1.39325097e+01],\n",
      "       [ 3.08776036e+00,  4.16639584e+01],\n",
      "       [ 1.81608049e+01,  1.07524540e+01],\n",
      "       [ 6.95788612e+01,  1.85713926e+01],\n",
      "       [ 3.84744272e+01,  1.22927655e+01],\n",
      "       [ 3.25893435e+00,  4.56322474e+01],\n",
      "       [-7.41602977e+00,  7.29816890e+00],\n",
      "       [ 2.55976877e+00,  3.31717714e+01],\n",
      "       [ 2.91132174e+01,  7.87560981e+00],\n",
      "       [ 1.93139008e+01,  1.05418341e+01],\n",
      "       [ 3.67440798e+00,  1.98861884e-01],\n",
      "       [ 3.94240616e+00,  1.98438259e-01],\n",
      "       [ 2.59442492e+01,  7.98672172e+00],\n",
      "       [ 1.15914440e+01,  2.58709228e+00],\n",
      "       [ 3.97949780e+00,  1.98469721e-01],\n",
      "       [ 3.92535078e+01,  8.27851843e+00],\n",
      "       [ 4.00551644e+01,  8.56593999e+00],\n",
      "       [ 2.80830049e+01,  7.65958890e+00],\n",
      "       [ 2.79683848e+01,  7.63481079e+00],\n",
      "       [ 2.95223454e+01,  5.74721763e+00],\n",
      "       [ 3.56858804e+00,  1.99450060e-01],\n",
      "       [ 4.60507999e+01,  1.54003384e+01],\n",
      "       [ 3.12128437e+01,  1.35242935e+01],\n",
      "       [ 2.90569349e+01,  7.85838027e+00],\n",
      "       [ 2.66129613e+01,  7.40278274e+00],\n",
      "       [ 4.05189691e+01,  8.60249762e+00],\n",
      "       [ 9.20025448e+00,  1.84171175e+00],\n",
      "       [ 2.37367590e+01,  1.15101661e+01],\n",
      "       [ 6.75329551e+01,  1.81157282e+01]]), array([ 5.22264949,  9.24191255, -2.07528241, -2.32416147, 13.9233161 ,\n",
      "       -2.49932225, -2.65333522,  5.04837907,  2.24660568, -2.59173095,\n",
      "       35.39081628, -2.38542061,  5.62012075, -2.34636957, -5.11645772,\n",
      "       -1.69821217,  5.06908026, -0.24290868, -2.10225826, -2.96695577,\n",
      "       -2.95192232, -1.20234324, -2.37737898, -2.86587906,  4.09544013,\n",
      "        0.57801989,  9.51706455,  9.23937049,  0.77031834,  3.65933388,\n",
      "       -2.06871907,  3.67902648, -2.95553012,  0.99873516, -5.52554851,\n",
      "        9.28632338, -2.18055462,  0.94856034, -4.63933475,  0.69537161,\n",
      "        5.48665896, -5.25721222, 12.11774178, 15.24055005,  4.06663908,\n",
      "       12.7961139 , 15.73597847, -2.20504351, -1.83574266,  4.990061  ,\n",
      "        4.95353515, -2.60517185, 11.07683941, -2.18414653, -2.95991097,\n",
      "        5.50687001,  4.49507582, -2.1852315 , 12.18228951, -5.08444205,\n",
      "        5.15011915]))\n"
     ]
    }
   ],
   "source": [
    "# Call gradient descent function using the datasets and initial weights that you created above\n",
    "# Choose appropriate learning rates for each function\n",
    "Theta1_star = gradient_descent(X1, Theta1, 0.1)\n",
    "print(\"Theta1_star: \", Theta1_star)\n",
    "Theta2_star = gradient_descent(X2, Theta2, 0.1)\n",
    "print(\"Theta2_star: \", Theta2_star)\n",
    "Theta3_star = gradient_descent(X3, Theta3, 0.01)\n",
    "print(\"Theta3_star: \", Theta3_star)"
   ]
  },
  {
   "attachments": {},
   "cell_type": "markdown",
   "metadata": {},
   "source": [
    "## Data and Function Plotting\n",
    "\n",
    "### Task 8\n",
    "\n",
    "Implement a plotting function that takes a given dataset $X$, given parameters $\\Theta$ and a defined range $R=[min,max]$. Each data sample $(x^{[n]},t^{[n]})$ of the dataset is plotted as an $''x''$. In order to plot the function that is approximated by the network, generate sufficient equally-spaced input values $x\\in R$, compute the network output $y$ for these inputs, and plot them with a line.\n",
    "\n",
    "Note:\n",
    "\n",
    "  1. The dataset $X$ is defined as above, a list of tuples $(\\vec x, t)$.\n",
    "  2. Each input in the dataset is defined as $\\vec x = (1,x)^T$.\n",
    "  3. Equidistant points can be obtained via `numpy.arange`."
   ]
  },
  {
   "cell_type": "code",
   "execution_count": 41,
   "metadata": {},
   "outputs": [],
   "source": [
    "from matplotlib import pyplot\n",
    "def plot(X, Theta, R):\n",
    "  # first, plot data samples\n",
    "  pyplot.plot([x[1] for x, _ in X], [t for _, t in X], \"rx\", label=\"Data\")\n",
    "\n",
    "  # define equidistant points from min (R[0]) to max (R[1]) to evaluate the network\n",
    "  x = np.linspace(R[0], R[1], 100)\n",
    "  # compute the network outputs for these values\n",
    "  y = [network((1, a), Theta)[0] for a in x]\n",
    "  # plot network approximation\n",
    "  pyplot.plot(x,y,\"k-\", label=\"network\")\n",
    "  pyplot.legend()"
   ]
  },
  {
   "attachments": {},
   "cell_type": "markdown",
   "metadata": {},
   "source": [
    "### Task 9\n",
    "\n",
    "For each of the datasets and their according optimized parameters, call the plotting function from Task 8. Use range $R=[-1.5,1.5]$ for dataset $X_1$ and $X_2$, and range $R=[-5,4]$ for dataset $X_3$. Note that the first element of range $R$ should be the lowest $x$-location, and the second element of $R$ the highest value for $x$. Did the networks approximate the functions? What can we do if not?"
   ]
  },
  {
   "cell_type": "code",
   "execution_count": 42,
   "metadata": {},
   "outputs": [
    {
     "name": "stderr",
     "output_type": "stream",
     "text": [
      "C:\\Users\\Yao C\\AppData\\Local\\Temp\\ipykernel_16000\\2973792175.py:5: RuntimeWarning: overflow encountered in exp\n",
      "  return 1 / (1 + np.exp(-x))\n"
     ]
    },
    {
     "data": {
      "image/png": "[encoded data removed]",
      "text/plain": [
       "<Figure size 1000x300 with 3 Axes>"
      ]
     },
     "metadata": {},
     "output_type": "display_data"
    }
   ],
   "source": [
    "figure = pyplot.figure(figsize=(10,3))\n",
    "\n",
    "# plot first function\n",
    "pyplot.subplot(131)\n",
    "plot(X1, Theta1_star, (-1.5, 1.5))\n",
    "\n",
    "# plot second function\n",
    "pyplot.subplot(132)\n",
    "plot(X2, Theta2_star, (-1.5, 1.5))\n",
    "\n",
    "# plot third function\n",
    "pyplot.subplot(133)\n",
    "plot(X3, Theta3_star, (-5, 4))"
   ]
  }
 ],
 "metadata": {
  "interpreter": {
   "hash": "2dd53f8ad749bca69f7250ce75eb4f0def59db5cf79075a9716322ffc58e8a2e"
  },
  "kernelspec": {
   "display_name": "Python 3 (ipykernel)",
   "language": "python",
   "name": "python3"
  },
  "language_info": {
   "codemirror_mode": {
    "name": "ipython",
    "version": 3
   },
   "file_extension": ".py",
   "mimetype": "text/x-python",
   "name": "python",
   "nbconvert_exporter": "python",
   "pygments_lexer": "ipython3",
   "version": "3.9.0"
  },
  "orig_nbformat": 4
 },
 "nbformat": 4,
 "nbformat_minor": 2
}
